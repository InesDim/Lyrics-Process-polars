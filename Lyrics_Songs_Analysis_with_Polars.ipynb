{
 "cells": [
  {
   "cell_type": "code",
   "execution_count": 1,
   "id": "87cf8ea7-bf10-46e8-bfbf-2e2541bde82c",
   "metadata": {},
   "outputs": [],
   "source": [
    "import gzip \n",
    "import zlib\n",
    "import lzma\n",
    "import bz2\n",
    "import snappy\n",
    "import base64\n",
    "import polars as pl\n",
    "import pandas as pd \n",
    "import math\n",
    "\n",
    "import gzip \n",
    "import zlib\n",
    "import lzma\n",
    "import bz2\n",
    "import snappy\n",
    "import base64\n",
    "import polars as pl\n",
    "import pandas as pd \n",
    "import math\n",
    "# Function to clean the lyrics\n",
    "import re\n",
    "def clean_lyrics(text: str) -> str:\n",
    "    return re.sub(r'\\[.*?\\]', '', text) if isinstance(text, str) else text\n",
    "    \n",
    "# Function to compress the lyrics using gzip\n",
    "def compress_text(text: str) -> str:\n",
    "    compressed = gzip.compress(text.encode('utf-8'))\n",
    "    # Convert compressed bytes to base64 for storage\n",
    "    return base64.b64encode(compressed).decode('utf-8')\n",
    "\n",
    "\n",
    "# Function to compress text using zlib\n",
    "def compress_text_zlib(text: str) -> str:\n",
    "    compressed = zlib.compress(text.encode('utf-8'))\n",
    "    # Convert compressed bytes to base64 for storage\n",
    "    return base64.b64encode(compressed).decode('utf-8')\n",
    "\n",
    "\n",
    "# Function to compress text using bz2\n",
    "def compress_text_bz2(text: str) -> str:\n",
    "    compressed = bz2.compress(text.encode('utf-8'))\n",
    "    # Convert compressed bytes to base64 for storage\n",
    "    return base64.b64encode(compressed).decode('utf-8')\n",
    "\n",
    "\n",
    "# Function to compress text using lzma\n",
    "def compress_text_lzma(text: str) -> str:\n",
    "    compressed = lzma.compress(text.encode('utf-8'))\n",
    "    # Convert compressed bytes to base64 for storage\n",
    "    return base64.b64encode(compressed).decode('utf-8')\n",
    "\n",
    "\n",
    "# Function to compress text using snappy\n",
    "def compress_text_snappy(text: str) -> str:\n",
    "    compressed = snappy.compress(text.encode('utf-8'))\n",
    "    # Convert compressed bytes to base64 for storage\n",
    "    return base64.b64encode(compressed).decode('utf-8')\n",
    "\n"
   ]
  },
  {
   "cell_type": "code",
   "execution_count": 3,
   "id": "f4ef04a6-6dca-4b5c-97f3-d769941afa01",
   "metadata": {},
   "outputs": [],
   "source": [
    "# File path\n",
    "file_path = '/Users/inesdimassi/Documents/Data/Lyrics/lyrics.csv'\n",
    "# Read the file using Polars\n",
    "df= pl.read_csv(file_path)\n"
   ]
  },
  {
   "cell_type": "code",
   "execution_count": 5,
   "id": "534b0682-15d2-4d38-a81c-5753a8f6018c",
   "metadata": {},
   "outputs": [
    {
     "data": {
      "text/html": [
       "<div><style>\n",
       ".dataframe > thead > tr,\n",
       ".dataframe > tbody > tr {\n",
       "  text-align: right;\n",
       "  white-space: pre-wrap;\n",
       "}\n",
       "</style>\n",
       "<small>shape: (362_237, 6)</small><table border=\"1\" class=\"dataframe\"><thead><tr><th>index</th><th>song</th><th>year</th><th>artist</th><th>genre</th><th>lyrics</th></tr><tr><td>i64</td><td>str</td><td>i64</td><td>str</td><td>str</td><td>str</td></tr></thead><tbody><tr><td>0</td><td>&quot;ego-remix&quot;</td><td>2009</td><td>&quot;beyonce-knowles&quot;</td><td>&quot;Pop&quot;</td><td>&quot;Oh baby, how you doing?\n",
       "You kn…</td></tr><tr><td>1</td><td>&quot;then-tell-me&quot;</td><td>2009</td><td>&quot;beyonce-knowles&quot;</td><td>&quot;Pop&quot;</td><td>&quot;playin&#x27; everything so easy,\n",
       "it…</td></tr><tr><td>2</td><td>&quot;honesty&quot;</td><td>2009</td><td>&quot;beyonce-knowles&quot;</td><td>&quot;Pop&quot;</td><td>&quot;If you search\n",
       "For tenderness\n",
       "I…</td></tr><tr><td>3</td><td>&quot;you-are-my-rock&quot;</td><td>2009</td><td>&quot;beyonce-knowles&quot;</td><td>&quot;Pop&quot;</td><td>&quot;Oh oh oh I, oh oh oh I\n",
       "[Verse …</td></tr><tr><td>4</td><td>&quot;black-culture&quot;</td><td>2009</td><td>&quot;beyonce-knowles&quot;</td><td>&quot;Pop&quot;</td><td>&quot;Party the people, the people t…</td></tr><tr><td>&hellip;</td><td>&hellip;</td><td>&hellip;</td><td>&hellip;</td><td>&hellip;</td><td>&hellip;</td></tr><tr><td>362232</td><td>&quot;who-am-i-drinking-tonight&quot;</td><td>2012</td><td>&quot;edens-edge&quot;</td><td>&quot;Country&quot;</td><td>&quot;I gotta say\n",
       "Boy, after only ju…</td></tr><tr><td>362233</td><td>&quot;liar&quot;</td><td>2012</td><td>&quot;edens-edge&quot;</td><td>&quot;Country&quot;</td><td>&quot;I helped you find her diamond …</td></tr><tr><td>362234</td><td>&quot;last-supper&quot;</td><td>2012</td><td>&quot;edens-edge&quot;</td><td>&quot;Country&quot;</td><td>&quot;Look at the couple in the corn…</td></tr><tr><td>362235</td><td>&quot;christ-alone-live-in-studio&quot;</td><td>2012</td><td>&quot;edens-edge&quot;</td><td>&quot;Country&quot;</td><td>&quot;When I fly off this mortal ear…</td></tr><tr><td>362236</td><td>&quot;amen&quot;</td><td>2012</td><td>&quot;edens-edge&quot;</td><td>&quot;Country&quot;</td><td>&quot;I heard from a friend of a fri…</td></tr></tbody></table></div>"
      ],
      "text/plain": [
       "shape: (362_237, 6)\n",
       "┌────────┬───────────────────────────┬──────┬─────────────────┬─────────┬──────────────────────────┐\n",
       "│ index  ┆ song                      ┆ year ┆ artist          ┆ genre   ┆ lyrics                   │\n",
       "│ ---    ┆ ---                       ┆ ---  ┆ ---             ┆ ---     ┆ ---                      │\n",
       "│ i64    ┆ str                       ┆ i64  ┆ str             ┆ str     ┆ str                      │\n",
       "╞════════╪═══════════════════════════╪══════╪═════════════════╪═════════╪══════════════════════════╡\n",
       "│ 0      ┆ ego-remix                 ┆ 2009 ┆ beyonce-knowles ┆ Pop     ┆ Oh baby, how you doing?  │\n",
       "│        ┆                           ┆      ┆                 ┆         ┆ You kn…                  │\n",
       "│ 1      ┆ then-tell-me              ┆ 2009 ┆ beyonce-knowles ┆ Pop     ┆ playin' everything so    │\n",
       "│        ┆                           ┆      ┆                 ┆         ┆ easy,                    │\n",
       "│        ┆                           ┆      ┆                 ┆         ┆ it…                      │\n",
       "│ 2      ┆ honesty                   ┆ 2009 ┆ beyonce-knowles ┆ Pop     ┆ If you search            │\n",
       "│        ┆                           ┆      ┆                 ┆         ┆ For tenderness           │\n",
       "│        ┆                           ┆      ┆                 ┆         ┆ I…                       │\n",
       "│ 3      ┆ you-are-my-rock           ┆ 2009 ┆ beyonce-knowles ┆ Pop     ┆ Oh oh oh I, oh oh oh I   │\n",
       "│        ┆                           ┆      ┆                 ┆         ┆ [Verse …                 │\n",
       "│ 4      ┆ black-culture             ┆ 2009 ┆ beyonce-knowles ┆ Pop     ┆ Party the people, the    │\n",
       "│        ┆                           ┆      ┆                 ┆         ┆ people t…                │\n",
       "│ …      ┆ …                         ┆ …    ┆ …               ┆ …       ┆ …                        │\n",
       "│ 362232 ┆ who-am-i-drinking-tonight ┆ 2012 ┆ edens-edge      ┆ Country ┆ I gotta say              │\n",
       "│        ┆                           ┆      ┆                 ┆         ┆ Boy, after only ju…      │\n",
       "│ 362233 ┆ liar                      ┆ 2012 ┆ edens-edge      ┆ Country ┆ I helped you find her    │\n",
       "│        ┆                           ┆      ┆                 ┆         ┆ diamond …                │\n",
       "│ 362234 ┆ last-supper               ┆ 2012 ┆ edens-edge      ┆ Country ┆ Look at the couple in    │\n",
       "│        ┆                           ┆      ┆                 ┆         ┆ the corn…                │\n",
       "│ 362235 ┆ christ-alone-live-in-stud ┆ 2012 ┆ edens-edge      ┆ Country ┆ When I fly off this      │\n",
       "│        ┆ io                        ┆      ┆                 ┆         ┆ mortal ear…              │\n",
       "│ 362236 ┆ amen                      ┆ 2012 ┆ edens-edge      ┆ Country ┆ I heard from a friend of │\n",
       "│        ┆                           ┆      ┆                 ┆         ┆ a fri…                   │\n",
       "└────────┴───────────────────────────┴──────┴─────────────────┴─────────┴──────────────────────────┘"
      ]
     },
     "execution_count": 5,
     "metadata": {},
     "output_type": "execute_result"
    }
   ],
   "source": [
    "df"
   ]
  },
  {
   "cell_type": "code",
   "execution_count": 7,
   "id": "5506a997-4bd8-43cb-869f-5e6f0465180e",
   "metadata": {},
   "outputs": [
    {
     "name": "stdout",
     "output_type": "stream",
     "text": [
      "DF Info\n",
      "(362237, 6)\n",
      "['index', 'song', 'year', 'artist', 'genre', 'lyrics']\n"
     ]
    }
   ],
   "source": [
    "print(\"DF Info\")\n",
    "print(df.shape)\n",
    "print(df.columns)"
   ]
  },
  {
   "cell_type": "code",
   "execution_count": 16,
   "id": "b19c59a4-d7e2-48ab-a1a0-84c4094707d9",
   "metadata": {},
   "outputs": [],
   "source": [
    "df=df.with_columns( \n",
    "    pl.col(\"lyrics\").map_elements(lambda x:  len(x), return_dtype=pl.Int64 ).alias(\"len_lyrics\")\n",
    ")"
   ]
  },
  {
   "cell_type": "code",
   "execution_count": 11,
   "id": "c5fc9c69-371e-49ce-870e-91de461ca0c9",
   "metadata": {},
   "outputs": [],
   "source": [
    "# Calculate size lyrics\n",
    "df = df.with_columns( \n",
    "    pl.col(\"lyrics\").map_elements(lambda x: len(x.encode('utf-8')) , return_dtype=pl.Int64 ).alias(\"song_size_bytes\")\n",
    ")"
   ]
  },
  {
   "cell_type": "code",
   "execution_count": 13,
   "id": "8643c2ac-47f5-4ac3-80ac-bdb1ea4b6d63",
   "metadata": {},
   "outputs": [],
   "source": [
    "#### Compress lyrics with gzip function\n",
    "df = df.with_columns( \n",
    "    pl.col(\"lyrics\").map_elements(lambda x: compress_text(x) , return_dtype=pl.Utf8 ).alias(\"lyrics_compressed_gzip\")\n",
    ")"
   ]
  },
  {
   "cell_type": "markdown",
   "id": "38e526cb-adb5-4c1b-b8a5-0609c4fe1a6a",
   "metadata": {},
   "source": [
    "#### Compress lyrics with zlib function\n",
    "df = df.with_columns( \n",
    "    pl.col(\"lyrics\").map_elements(lambda x:  compress_text_zlib(x) , return_dtype=pl.Utf8 ).alias(\"lyrics_compressed_zlib\")\n",
    ")"
   ]
  },
  {
   "cell_type": "markdown",
   "id": "4c9786bb-59da-4ab4-a317-8aa22584feb7",
   "metadata": {},
   "source": [
    "#### Compress lyrics with bz2 function\n",
    "df = df.with_columns( \n",
    "    pl.col(\"lyrics\").map_elements(lambda x:  compress_text_bz2(x) , return_dtype=pl.Utf8 ).alias(\"lyrics_compressed_bz2\")\n",
    ")"
   ]
  },
  {
   "cell_type": "code",
   "execution_count": 21,
   "id": "d4220270-c8fd-4aac-bc26-3deda3e3d43b",
   "metadata": {},
   "outputs": [],
   "source": [
    "# Calculate size compressed lyrics\n",
    "df = df.with_columns( \n",
    "    pl.col(\"lyrics_compressed_gzip\").map_elements(lambda x: len(x.encode('utf-8')), return_dtype=pl.Int64 ).alias(\"song_compressed_size_gzip\")\n",
    ")"
   ]
  },
  {
   "cell_type": "markdown",
   "id": "d121e7db-a02c-4353-9dce-d3c9195d4879",
   "metadata": {},
   "source": [
    "#### Calculate size compressed lyrics\n",
    "df = df.with_columns( \n",
    "    pl.col(\"lyrics_compressed_zlib\").map_elements(lambda x: len(x.encode('utf-8')), return_dtype=pl.Int64 ).alias(\"song_compressed_size_zlib\")\n",
    ")"
   ]
  },
  {
   "cell_type": "markdown",
   "id": "f934ba53-5e0e-4214-b023-8d4659abb871",
   "metadata": {},
   "source": [
    "#### Calculate size compressed lyrics\n",
    "df = df.with_columns( \n",
    "    pl.col(\"lyrics_compressed_bz2\").map_elements(lambda x: len(x.encode('utf-8')), return_dtype=pl.Int64 ).alias(\"song_compressed_size_bz2\")\n",
    ")"
   ]
  },
  {
   "cell_type": "code",
   "execution_count": 28,
   "id": "c21d7232-9894-4bb2-b392-cc436afd48f9",
   "metadata": {
    "scrolled": true
   },
   "outputs": [
    {
     "name": "stderr",
     "output_type": "stream",
     "text": [
      "sys:1: MapWithoutReturnDtypeWarning: Calling `map_elements` without specifying `return_dtype` can lead to unpredictable results. Specify `return_dtype` to silence this warning.\n",
      "sys:1: MapWithoutReturnDtypeWarning: Calling `map_elements` without specifying `return_dtype` can lead to unpredictable results. Specify `return_dtype` to silence this warning.\n",
      "sys:1: MapWithoutReturnDtypeWarning: Calling `map_elements` without specifying `return_dtype` can lead to unpredictable results. Specify `return_dtype` to silence this warning.\n",
      "sys:1: MapWithoutReturnDtypeWarning: Calling `map_elements` without specifying `return_dtype` can lead to unpredictable results. Specify `return_dtype` to silence this warning.\n",
      "sys:1: MapWithoutReturnDtypeWarning: Calling `map_elements` without specifying `return_dtype` can lead to unpredictable results. Specify `return_dtype` to silence this warning.\n",
      "sys:1: MapWithoutReturnDtypeWarning: Calling `map_elements` without specifying `return_dtype` can lead to unpredictable results. Specify `return_dtype` to silence this warning.\n",
      "sys:1: MapWithoutReturnDtypeWarning: Calling `map_elements` without specifying `return_dtype` can lead to unpredictable results. Specify `return_dtype` to silence this warning.\n",
      "sys:1: MapWithoutReturnDtypeWarning: Calling `map_elements` without specifying `return_dtype` can lead to unpredictable results. Specify `return_dtype` to silence this warning.\n",
      "sys:1: MapWithoutReturnDtypeWarning: Calling `map_elements` without specifying `return_dtype` can lead to unpredictable results. Specify `return_dtype` to silence this warning.\n",
      "sys:1: MapWithoutReturnDtypeWarning: Calling `map_elements` without specifying `return_dtype` can lead to unpredictable results. Specify `return_dtype` to silence this warning.\n",
      "sys:1: MapWithoutReturnDtypeWarning: Calling `map_elements` without specifying `return_dtype` can lead to unpredictable results. Specify `return_dtype` to silence this warning.\n",
      "sys:1: MapWithoutReturnDtypeWarning: Calling `map_elements` without specifying `return_dtype` can lead to unpredictable results. Specify `return_dtype` to silence this warning.\n",
      "sys:1: MapWithoutReturnDtypeWarning: Calling `map_elements` without specifying `return_dtype` can lead to unpredictable results. Specify `return_dtype` to silence this warning.\n",
      "sys:1: MapWithoutReturnDtypeWarning: Calling `map_elements` without specifying `return_dtype` can lead to unpredictable results. Specify `return_dtype` to silence this warning.\n",
      "sys:1: MapWithoutReturnDtypeWarning: Calling `map_elements` without specifying `return_dtype` can lead to unpredictable results. Specify `return_dtype` to silence this warning.\n",
      "sys:1: MapWithoutReturnDtypeWarning: Calling `map_elements` without specifying `return_dtype` can lead to unpredictable results. Specify `return_dtype` to silence this warning.\n",
      "sys:1: MapWithoutReturnDtypeWarning: Calling `map_elements` without specifying `return_dtype` can lead to unpredictable results. Specify `return_dtype` to silence this warning.\n",
      "sys:1: MapWithoutReturnDtypeWarning: Calling `map_elements` without specifying `return_dtype` can lead to unpredictable results. Specify `return_dtype` to silence this warning.\n",
      "sys:1: MapWithoutReturnDtypeWarning: Calling `map_elements` without specifying `return_dtype` can lead to unpredictable results. Specify `return_dtype` to silence this warning.\n",
      "sys:1: MapWithoutReturnDtypeWarning: Calling `map_elements` without specifying `return_dtype` can lead to unpredictable results. Specify `return_dtype` to silence this warning.\n"
     ]
    }
   ],
   "source": [
    "df = df.with_columns(\n",
    "    ratio_compress = (pl.col('song_compressed_size_gzip')*100) / pl.col('song_size_bytes')\n",
    ")\n",
    "\n",
    "df = df.with_columns( \n",
    "    pl.col(\"ratio_compress\").map_elements(lambda x: round(x,0) ).alias(\"ratio_compress\")\n",
    ")"
   ]
  },
  {
   "cell_type": "code",
   "execution_count": 30,
   "id": "d05672bb-3b38-48f2-801c-7f8bc22d172d",
   "metadata": {},
   "outputs": [
    {
     "data": {
      "text/html": [
       "<div><style>\n",
       ".dataframe > thead > tr,\n",
       ".dataframe > tbody > tr {\n",
       "  text-align: right;\n",
       "  white-space: pre-wrap;\n",
       "}\n",
       "</style>\n",
       "<small>shape: (362_237, 11)</small><table border=\"1\" class=\"dataframe\"><thead><tr><th>index</th><th>song</th><th>year</th><th>artist</th><th>genre</th><th>lyrics</th><th>len_lyrics</th><th>song_size_bytes</th><th>lyrics_compressed_gzip</th><th>song_compressed_size_gzip</th><th>ratio_compress</th></tr><tr><td>i64</td><td>str</td><td>i64</td><td>str</td><td>str</td><td>str</td><td>i64</td><td>i64</td><td>str</td><td>i64</td><td>f64</td></tr></thead><tbody><tr><td>0</td><td>&quot;ego-remix&quot;</td><td>2009</td><td>&quot;beyonce-knowles&quot;</td><td>&quot;Pop&quot;</td><td>&quot;Oh baby, how you doing?\n",
       "You kn…</td><td>1961</td><td>1961</td><td>&quot;H4sIALywcWcC/9VVu47cMAzs/RXstv…</td><td>976</td><td>50.0</td></tr><tr><td>1</td><td>&quot;then-tell-me&quot;</td><td>2009</td><td>&quot;beyonce-knowles&quot;</td><td>&quot;Pop&quot;</td><td>&quot;playin&#x27; everything so easy,\n",
       "it…</td><td>1270</td><td>1270</td><td>&quot;H4sIALywcWcC/11US5arIBCds4qaOf…</td><td>800</td><td>63.0</td></tr><tr><td>2</td><td>&quot;honesty&quot;</td><td>2009</td><td>&quot;beyonce-knowles&quot;</td><td>&quot;Pop&quot;</td><td>&quot;If you search\n",
       "For tenderness\n",
       "I…</td><td>827</td><td>827</td><td>&quot;H4sIALywcWcC/1WSz47UMAzG73kK3w…</td><td>640</td><td>77.0</td></tr><tr><td>3</td><td>&quot;you-are-my-rock&quot;</td><td>2009</td><td>&quot;beyonce-knowles&quot;</td><td>&quot;Pop&quot;</td><td>&quot;Oh oh oh I, oh oh oh I\n",
       "[Verse …</td><td>2344</td><td>2344</td><td>&quot;H4sIALywcWcC/+1VTWsbMRC9768Ycv…</td><td>940</td><td>40.0</td></tr><tr><td>4</td><td>&quot;black-culture&quot;</td><td>2009</td><td>&quot;beyonce-knowles&quot;</td><td>&quot;Pop&quot;</td><td>&quot;Party the people, the people t…</td><td>1540</td><td>1540</td><td>&quot;H4sIALywcWcC/91Ry27DIBC8+yvm5l…</td><td>388</td><td>25.0</td></tr><tr><td>&hellip;</td><td>&hellip;</td><td>&hellip;</td><td>&hellip;</td><td>&hellip;</td><td>&hellip;</td><td>&hellip;</td><td>&hellip;</td><td>&hellip;</td><td>&hellip;</td><td>&hellip;</td></tr><tr><td>362232</td><td>&quot;who-am-i-drinking-tonight&quot;</td><td>2012</td><td>&quot;edens-edge&quot;</td><td>&quot;Country&quot;</td><td>&quot;I gotta say\n",
       "Boy, after only ju…</td><td>1630</td><td>1630</td><td>&quot;H4sIAL6wcWcC/+1UuW7cMBDt+RXTbb…</td><td>840</td><td>52.0</td></tr><tr><td>362233</td><td>&quot;liar&quot;</td><td>2012</td><td>&quot;edens-edge&quot;</td><td>&quot;Country&quot;</td><td>&quot;I helped you find her diamond …</td><td>1014</td><td>1014</td><td>&quot;H4sIAL6wcWcC/71TPW/dMAzc36/g5i…</td><td>592</td><td>58.0</td></tr><tr><td>362234</td><td>&quot;last-supper&quot;</td><td>2012</td><td>&quot;edens-edge&quot;</td><td>&quot;Country&quot;</td><td>&quot;Look at the couple in the corn…</td><td>1183</td><td>1183</td><td>&quot;H4sIAL6wcWcC/81Usa7bMAzc/RXcsr…</td><td>720</td><td>61.0</td></tr><tr><td>362235</td><td>&quot;christ-alone-live-in-studio&quot;</td><td>2012</td><td>&quot;edens-edge&quot;</td><td>&quot;Country&quot;</td><td>&quot;When I fly off this mortal ear…</td><td>852</td><td>852</td><td>&quot;H4sIAL6wcWcC/7WSPY7cMAyFe5+C3T…</td><td>548</td><td>64.0</td></tr><tr><td>362236</td><td>&quot;amen&quot;</td><td>2012</td><td>&quot;edens-edge&quot;</td><td>&quot;Country&quot;</td><td>&quot;I heard from a friend of a fri…</td><td>1557</td><td>1557</td><td>&quot;H4sIAL6wcWcC/+1UwWrcQAy9+yt028…</td><td>744</td><td>48.0</td></tr></tbody></table></div>"
      ],
      "text/plain": [
       "shape: (362_237, 11)\n",
       "┌────────┬─────────────┬──────┬────────────┬───┬────────────┬────────────┬────────────┬────────────┐\n",
       "│ index  ┆ song        ┆ year ┆ artist     ┆ … ┆ song_size_ ┆ lyrics_com ┆ song_compr ┆ ratio_comp │\n",
       "│ ---    ┆ ---         ┆ ---  ┆ ---        ┆   ┆ bytes      ┆ pressed_gz ┆ essed_size ┆ ress       │\n",
       "│ i64    ┆ str         ┆ i64  ┆ str        ┆   ┆ ---        ┆ ip         ┆ _gzip      ┆ ---        │\n",
       "│        ┆             ┆      ┆            ┆   ┆ i64        ┆ ---        ┆ ---        ┆ f64        │\n",
       "│        ┆             ┆      ┆            ┆   ┆            ┆ str        ┆ i64        ┆            │\n",
       "╞════════╪═════════════╪══════╪════════════╪═══╪════════════╪════════════╪════════════╪════════════╡\n",
       "│ 0      ┆ ego-remix   ┆ 2009 ┆ beyonce-kn ┆ … ┆ 1961       ┆ H4sIALywcW ┆ 976        ┆ 50.0       │\n",
       "│        ┆             ┆      ┆ owles      ┆   ┆            ┆ cC/9VVu47c ┆            ┆            │\n",
       "│        ┆             ┆      ┆            ┆   ┆            ┆ MAzs/RXstv ┆            ┆            │\n",
       "│        ┆             ┆      ┆            ┆   ┆            ┆ …          ┆            ┆            │\n",
       "│ 1      ┆ then-tell-m ┆ 2009 ┆ beyonce-kn ┆ … ┆ 1270       ┆ H4sIALywcW ┆ 800        ┆ 63.0       │\n",
       "│        ┆ e           ┆      ┆ owles      ┆   ┆            ┆ cC/11US5ar ┆            ┆            │\n",
       "│        ┆             ┆      ┆            ┆   ┆            ┆ IBCds4qaOf ┆            ┆            │\n",
       "│        ┆             ┆      ┆            ┆   ┆            ┆ …          ┆            ┆            │\n",
       "│ 2      ┆ honesty     ┆ 2009 ┆ beyonce-kn ┆ … ┆ 827        ┆ H4sIALywcW ┆ 640        ┆ 77.0       │\n",
       "│        ┆             ┆      ┆ owles      ┆   ┆            ┆ cC/1WSz47U ┆            ┆            │\n",
       "│        ┆             ┆      ┆            ┆   ┆            ┆ MAzG73kK3w ┆            ┆            │\n",
       "│        ┆             ┆      ┆            ┆   ┆            ┆ …          ┆            ┆            │\n",
       "│ 3      ┆ you-are-my- ┆ 2009 ┆ beyonce-kn ┆ … ┆ 2344       ┆ H4sIALywcW ┆ 940        ┆ 40.0       │\n",
       "│        ┆ rock        ┆      ┆ owles      ┆   ┆            ┆ cC/+1VTWsb ┆            ┆            │\n",
       "│        ┆             ┆      ┆            ┆   ┆            ┆ MRC9768Ycv ┆            ┆            │\n",
       "│        ┆             ┆      ┆            ┆   ┆            ┆ …          ┆            ┆            │\n",
       "│ 4      ┆ black-cultu ┆ 2009 ┆ beyonce-kn ┆ … ┆ 1540       ┆ H4sIALywcW ┆ 388        ┆ 25.0       │\n",
       "│        ┆ re          ┆      ┆ owles      ┆   ┆            ┆ cC/91Ry27D ┆            ┆            │\n",
       "│        ┆             ┆      ┆            ┆   ┆            ┆ IBC8+yvm5l ┆            ┆            │\n",
       "│        ┆             ┆      ┆            ┆   ┆            ┆ …          ┆            ┆            │\n",
       "│ …      ┆ …           ┆ …    ┆ …          ┆ … ┆ …          ┆ …          ┆ …          ┆ …          │\n",
       "│ 362232 ┆ who-am-i-dr ┆ 2012 ┆ edens-edge ┆ … ┆ 1630       ┆ H4sIAL6wcW ┆ 840        ┆ 52.0       │\n",
       "│        ┆ inking-toni ┆      ┆            ┆   ┆            ┆ cC/+1UuW7c ┆            ┆            │\n",
       "│        ┆ ght         ┆      ┆            ┆   ┆            ┆ MBDt+RXTbb ┆            ┆            │\n",
       "│        ┆             ┆      ┆            ┆   ┆            ┆ …          ┆            ┆            │\n",
       "│ 362233 ┆ liar        ┆ 2012 ┆ edens-edge ┆ … ┆ 1014       ┆ H4sIAL6wcW ┆ 592        ┆ 58.0       │\n",
       "│        ┆             ┆      ┆            ┆   ┆            ┆ cC/71TPW/d ┆            ┆            │\n",
       "│        ┆             ┆      ┆            ┆   ┆            ┆ MAzc36/g5i ┆            ┆            │\n",
       "│        ┆             ┆      ┆            ┆   ┆            ┆ …          ┆            ┆            │\n",
       "│ 362234 ┆ last-supper ┆ 2012 ┆ edens-edge ┆ … ┆ 1183       ┆ H4sIAL6wcW ┆ 720        ┆ 61.0       │\n",
       "│        ┆             ┆      ┆            ┆   ┆            ┆ cC/81Usa7b ┆            ┆            │\n",
       "│        ┆             ┆      ┆            ┆   ┆            ┆ MAzc/RXcsr ┆            ┆            │\n",
       "│        ┆             ┆      ┆            ┆   ┆            ┆ …          ┆            ┆            │\n",
       "│ 362235 ┆ christ-alon ┆ 2012 ┆ edens-edge ┆ … ┆ 852        ┆ H4sIAL6wcW ┆ 548        ┆ 64.0       │\n",
       "│        ┆ e-live-in-s ┆      ┆            ┆   ┆            ┆ cC/7WSPY7c ┆            ┆            │\n",
       "│        ┆ tudio       ┆      ┆            ┆   ┆            ┆ MAyFe5+C3T ┆            ┆            │\n",
       "│        ┆             ┆      ┆            ┆   ┆            ┆ …          ┆            ┆            │\n",
       "│ 362236 ┆ amen        ┆ 2012 ┆ edens-edge ┆ … ┆ 1557       ┆ H4sIAL6wcW ┆ 744        ┆ 48.0       │\n",
       "│        ┆             ┆      ┆            ┆   ┆            ┆ cC/+1UwWrc ┆            ┆            │\n",
       "│        ┆             ┆      ┆            ┆   ┆            ┆ QAy9+yt028 ┆            ┆            │\n",
       "│        ┆             ┆      ┆            ┆   ┆            ┆ …          ┆            ┆            │\n",
       "└────────┴─────────────┴──────┴────────────┴───┴────────────┴────────────┴────────────┴────────────┘"
      ]
     },
     "execution_count": 30,
     "metadata": {},
     "output_type": "execute_result"
    }
   ],
   "source": [
    "df"
   ]
  },
  {
   "cell_type": "code",
   "execution_count": 36,
   "id": "37594ee2-db69-419b-a2ae-f4f601f3cd94",
   "metadata": {},
   "outputs": [],
   "source": [
    "df_songs=df[[\"song\", \"artist\", \"genre\",  \"year\", \"lyrics\", \"len_lyrics\", \"song_size_bytes\", \"song_compressed_size_gzip\", \"ratio_compress\"]]"
   ]
  },
  {
   "cell_type": "code",
   "execution_count": 38,
   "id": "8a77a923-94f9-4392-a2e9-d23032a58e79",
   "metadata": {},
   "outputs": [],
   "source": [
    "df_songs.write_csv('Lyrics_songs.csv', separator=\",\")"
   ]
  },
  {
   "cell_type": "code",
   "execution_count": null,
   "id": "d52a52d8-1f10-4447-ac7e-4619094107d2",
   "metadata": {},
   "outputs": [],
   "source": []
  }
 ],
 "metadata": {
  "kernelspec": {
   "display_name": "Python [conda env:base] *",
   "language": "python",
   "name": "conda-base-py"
  },
  "language_info": {
   "codemirror_mode": {
    "name": "ipython",
    "version": 3
   },
   "file_extension": ".py",
   "mimetype": "text/x-python",
   "name": "python",
   "nbconvert_exporter": "python",
   "pygments_lexer": "ipython3",
   "version": "3.12.7"
  }
 },
 "nbformat": 4,
 "nbformat_minor": 5
}
