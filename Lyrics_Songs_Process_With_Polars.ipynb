{
 "cells": [
  {
   "cell_type": "markdown",
   "id": "e4a16942-5dc8-4458-bad2-a5bdb606be45",
   "metadata": {},
   "source": [
    "pip install snappy"
   ]
  },
  {
   "cell_type": "code",
   "execution_count": 1,
   "id": "1aac6ae1-69a9-41a8-a9d0-dd88fb92d20e",
   "metadata": {},
   "outputs": [],
   "source": [
    "import gzip \n",
    "import zlib\n",
    "import lzma\n",
    "import bz2\n",
    "import snappy\n",
    "import base64\n",
    "import polars as pl\n",
    "import pandas as pd \n",
    "import math\n",
    "# Function to clean the lyrics\n",
    "import re\n",
    "def clean_lyrics(text: str) -> str:\n",
    "    return re.sub(r'\\[.*?\\]', '', text) if isinstance(text, str) else text\n",
    "    \n",
    "# Function to compress the lyrics using gzip\n",
    "def compress_text(text: str) -> str:\n",
    "    compressed = gzip.compress(text.encode('utf-8'))\n",
    "    # Convert compressed bytes to base64 for storage\n",
    "    return base64.b64encode(compressed).decode('utf-8')\n",
    "\n",
    "\n",
    "# Function to compress text using zlib\n",
    "def compress_text_zlib(text: str) -> str:\n",
    "    compressed = zlib.compress(text.encode('utf-8'))\n",
    "    # Convert compressed bytes to base64 for storage\n",
    "    return base64.b64encode(compressed).decode('utf-8')\n",
    "\n",
    "\n",
    "# Function to compress text using bz2\n",
    "def compress_text_bz2(text: str) -> str:\n",
    "    compressed = bz2.compress(text.encode('utf-8'))\n",
    "    # Convert compressed bytes to base64 for storage\n",
    "    return base64.b64encode(compressed).decode('utf-8')\n",
    "\n",
    "\n",
    "# Function to compress text using lzma\n",
    "def compress_text_lzma(text: str) -> str:\n",
    "    compressed = lzma.compress(text.encode('utf-8'))\n",
    "    # Convert compressed bytes to base64 for storage\n",
    "    return base64.b64encode(compressed).decode('utf-8')\n",
    "\n",
    "\n",
    "# Function to compress text using snappy\n",
    "def compress_text_snappy(text: str) -> str:\n",
    "    compressed = snappy.compress(text.encode('utf-8'))\n",
    "    # Convert compressed bytes to base64 for storage\n",
    "    return base64.b64encode(compressed).decode('utf-8')\n",
    "\n"
   ]
  },
  {
   "cell_type": "code",
   "execution_count": 2,
   "id": "1fa4674e-6c3b-4bb7-929d-cd4daa7f3095",
   "metadata": {},
   "outputs": [],
   "source": [
    "# File path\n",
    "file_path = '/Users/inesdimassi/Documents/Data/Lyrics/ds2.csv'\n",
    "# Read the file using Polars\n",
    "df_polars = pl.read_csv(file_path)\n",
    "\n",
    "###############################################@\n",
    "\n",
    "# File path\n",
    "file_path_metal = '/Users/inesdimassi/Documents/Data/Lyrics/metal_lyrics.csv'\n",
    "# Read the file using Polars\n",
    "metal_polars = pl.read_csv(file_path_metal)"
   ]
  },
  {
   "cell_type": "code",
   "execution_count": 4,
   "id": "cb47333f-7e1a-4256-b622-47a07a4620d8",
   "metadata": {},
   "outputs": [],
   "source": [
    "#metal_polars=metal_polars.filter(pl.col(\"Year\") > 0 )\n",
    "metal_polars = metal_polars.with_columns(\n",
    "    tag = pl.lit('metal')\n",
    ")"
   ]
  },
  {
   "cell_type": "code",
   "execution_count": 5,
   "id": "f2b1f51d-e486-466f-b766-c7d302c34524",
   "metadata": {},
   "outputs": [
    {
     "name": "stdout",
     "output_type": "stream",
     "text": [
      "DF Info\n",
      "(5913411, 8)\n",
      "['title', 'tag', 'artist', 'year', 'views', 'features', 'lyrics', 'id']\n",
      "Metal songs Info\n",
      "(228288, 7)\n",
      "['Artist', 'Album', 'Song', 'Lyric', 'SongNum', 'Year', 'tag']\n"
     ]
    }
   ],
   "source": [
    "print(\"DF Info\")\n",
    "print(df_polars.shape)\n",
    "print(df_polars.columns)\n",
    "######################################\n",
    "\n",
    "print(\"Metal songs Info\")\n",
    "print(metal_polars.shape)\n",
    "print(metal_polars.columns)"
   ]
  },
  {
   "cell_type": "code",
   "execution_count": 6,
   "id": "0dfcb54a-5f99-4a78-a122-adbe81d6c661",
   "metadata": {},
   "outputs": [],
   "source": [
    "# Select the necessary columns \n",
    "df_polars = df_polars[[\"title\", \"artist\", \"tag\",  \"year\", \"lyrics\"]]\n",
    "metal_polars = metal_polars[[\"Song\", \"Artist\", \"tag\",  \"Year\", \"Lyric\"]]\n",
    "# Change columns names of the metal Data\n",
    "metal_polars.columns= [\"title\", \"artist\", \"tag\",  \"year\", \"lyrics\"]"
   ]
  },
  {
   "cell_type": "code",
   "execution_count": 7,
   "id": "6d022a10-2e31-40ac-ade9-6d162da4d01e",
   "metadata": {},
   "outputs": [
    {
     "data": {
      "text/html": [
       "<div><style>\n",
       ".dataframe > thead > tr,\n",
       ".dataframe > tbody > tr {\n",
       "  text-align: right;\n",
       "  white-space: pre-wrap;\n",
       "}\n",
       "</style>\n",
       "<small>shape: (6, 5)</small><table border=\"1\" class=\"dataframe\"><thead><tr><th>title</th><th>artist</th><th>tag</th><th>year</th><th>lyrics</th></tr><tr><td>str</td><td>str</td><td>str</td><td>i64</td><td>str</td></tr></thead><tbody><tr><td>&quot;Killa Cam&quot;</td><td>&quot;Cam&#x27;ron&quot;</td><td>&quot;rap&quot;</td><td>2004</td><td>&quot;[Chorus: Opera Steve &amp; Cam&#x27;ron…</td></tr><tr><td>&quot;Can I Live&quot;</td><td>&quot;JAY-Z&quot;</td><td>&quot;rap&quot;</td><td>1996</td><td>&quot;[Produced by Irv Gotti]\n",
       "\n",
       "[Intr…</td></tr><tr><td>&quot;Forgive Me Father&quot;</td><td>&quot;Fabolous&quot;</td><td>&quot;rap&quot;</td><td>2003</td><td>&quot;Maybe cause I&#x27;m eatin\n",
       "And thes…</td></tr><tr><td>&quot;Down and Out&quot;</td><td>&quot;Cam&#x27;ron&quot;</td><td>&quot;rap&quot;</td><td>2004</td><td>&quot;[Produced by Kanye West and Br…</td></tr><tr><td>&quot;Fly In&quot;</td><td>&quot;Lil Wayne&quot;</td><td>&quot;rap&quot;</td><td>2005</td><td>&quot;[Intro]\n",
       "So they ask me\n",
       "&quot;Young …</td></tr><tr><td>&quot;Lollipop Remix&quot;</td><td>&quot;Lil Wayne&quot;</td><td>&quot;rap&quot;</td><td>2008</td><td>&quot;[Intro: Lil Wayne]\n",
       "Haha\n",
       "Uh-huh…</td></tr></tbody></table></div>"
      ],
      "text/plain": [
       "shape: (6, 5)\n",
       "┌───────────────────┬───────────┬─────┬──────┬─────────────────────────────────┐\n",
       "│ title             ┆ artist    ┆ tag ┆ year ┆ lyrics                          │\n",
       "│ ---               ┆ ---       ┆ --- ┆ ---  ┆ ---                             │\n",
       "│ str               ┆ str       ┆ str ┆ i64  ┆ str                             │\n",
       "╞═══════════════════╪═══════════╪═════╪══════╪═════════════════════════════════╡\n",
       "│ Killa Cam         ┆ Cam'ron   ┆ rap ┆ 2004 ┆ [Chorus: Opera Steve & Cam'ron… │\n",
       "│ Can I Live        ┆ JAY-Z     ┆ rap ┆ 1996 ┆ [Produced by Irv Gotti]         │\n",
       "│                   ┆           ┆     ┆      ┆                                 │\n",
       "│                   ┆           ┆     ┆      ┆ [Intr…                          │\n",
       "│ Forgive Me Father ┆ Fabolous  ┆ rap ┆ 2003 ┆ Maybe cause I'm eatin           │\n",
       "│                   ┆           ┆     ┆      ┆ And thes…                       │\n",
       "│ Down and Out      ┆ Cam'ron   ┆ rap ┆ 2004 ┆ [Produced by Kanye West and Br… │\n",
       "│ Fly In            ┆ Lil Wayne ┆ rap ┆ 2005 ┆ [Intro]                         │\n",
       "│                   ┆           ┆     ┆      ┆ So they ask me                  │\n",
       "│                   ┆           ┆     ┆      ┆ \"Young …                        │\n",
       "│ Lollipop Remix    ┆ Lil Wayne ┆ rap ┆ 2008 ┆ [Intro: Lil Wayne]              │\n",
       "│                   ┆           ┆     ┆      ┆ Haha                            │\n",
       "│                   ┆           ┆     ┆      ┆ Uh-huh…                         │\n",
       "└───────────────────┴───────────┴─────┴──────┴─────────────────────────────────┘"
      ]
     },
     "execution_count": 7,
     "metadata": {},
     "output_type": "execute_result"
    }
   ],
   "source": [
    "df_polars.head(6)"
   ]
  },
  {
   "cell_type": "code",
   "execution_count": 8,
   "id": "7d6a6cda-3854-49a2-a6d2-b0df66a927c8",
   "metadata": {},
   "outputs": [
    {
     "data": {
      "text/html": [
       "<div><style>\n",
       ".dataframe > thead > tr,\n",
       ".dataframe > tbody > tr {\n",
       "  text-align: right;\n",
       "  white-space: pre-wrap;\n",
       "}\n",
       "</style>\n",
       "<small>shape: (6, 5)</small><table border=\"1\" class=\"dataframe\"><thead><tr><th>title</th><th>artist</th><th>tag</th><th>year</th><th>lyrics</th></tr><tr><td>str</td><td>str</td><td>str</td><td>i64</td><td>str</td></tr></thead><tbody><tr><td>&quot;_Gecenin_G__lgesi&quot;</td><td>&quot;...AAAARRGHH&quot;</td><td>&quot;metal&quot;</td><td>0</td><td>&quot;Kara bulutlar sardГ„В± yine dГ…</td></tr><tr><td>&quot;_Son___afak&quot;</td><td>&quot;...AAAARRGHH&quot;</td><td>&quot;metal&quot;</td><td>0</td><td>&quot;Dolunay parlak gГѓВ¶rГѓВјnmГѓВ…</td></tr><tr><td>&quot;_F__rt__na_Yakla__yyor...&quot;</td><td>&quot;...AAAARRGHH&quot;</td><td>&quot;metal&quot;</td><td>0</td><td>&quot;Ay Г„В±Г…ВџГ„В±Г„ВџГ„В±nГ„В±n …</td></tr><tr><td>&quot;_Ebedi_Buzulun_Ortas__nda&quot;</td><td>&quot;...AAAARRGHH&quot;</td><td>&quot;metal&quot;</td><td>0</td><td>&quot;Ay Г„В±Г…ВџГ„В±Г„ВџГ„В±nГ„В±n …</td></tr><tr><td>&quot;_Lanetli_Diyarlar&quot;</td><td>&quot;...AAAARRGHH&quot;</td><td>&quot;metal&quot;</td><td>0</td><td>&quot;YГѓВјrГѓВјyorum yalnГ„В±z baГ……</td></tr><tr><td>&quot;...Ja Kylma Vesi Nuolee Oksaa&quot;</td><td>&quot;...AND OCEANS&quot;</td><td>&quot;metal&quot;</td><td>1998</td><td>&quot;Open the white doors\n",
       "To the fi…</td></tr></tbody></table></div>"
      ],
      "text/plain": [
       "shape: (6, 5)\n",
       "┌───────────────────────────────┬───────────────┬───────┬──────┬─────────────────────────────────┐\n",
       "│ title                         ┆ artist        ┆ tag   ┆ year ┆ lyrics                          │\n",
       "│ ---                           ┆ ---           ┆ ---   ┆ ---  ┆ ---                             │\n",
       "│ str                           ┆ str           ┆ str   ┆ i64  ┆ str                             │\n",
       "╞═══════════════════════════════╪═══════════════╪═══════╪══════╪═════════════════════════════════╡\n",
       "│ _Gecenin_G__lgesi             ┆ ...AAAARRGHH  ┆ metal ┆ 0    ┆ Kara bulutlar sardГ„В± yine dГ… │\n",
       "│ _Son___afak                   ┆ ...AAAARRGHH  ┆ metal ┆ 0    ┆ Dolunay parlak gГѓВ¶rГѓВјnmГѓВ… │\n",
       "│ _F__rt__na_Yakla__yyor...     ┆ ...AAAARRGHH  ┆ metal ┆ 0    ┆ Ay Г„В±Г…ВџГ„В±Г„ВџГ„В±nГ„В±n … │\n",
       "│ _Ebedi_Buzulun_Ortas__nda     ┆ ...AAAARRGHH  ┆ metal ┆ 0    ┆ Ay Г„В±Г…ВџГ„В±Г„ВџГ„В±nГ„В±n … │\n",
       "│ _Lanetli_Diyarlar             ┆ ...AAAARRGHH  ┆ metal ┆ 0    ┆ YГѓВјrГѓВјyorum yalnГ„В±z baГ…… │\n",
       "│ ...Ja Kylma Vesi Nuolee Oksaa ┆ ...AND OCEANS ┆ metal ┆ 1998 ┆ Open the white doors            │\n",
       "│                               ┆               ┆       ┆      ┆ To the fi…                      │\n",
       "└───────────────────────────────┴───────────────┴───────┴──────┴─────────────────────────────────┘"
      ]
     },
     "execution_count": 8,
     "metadata": {},
     "output_type": "execute_result"
    }
   ],
   "source": [
    "metal_polars.head(6)"
   ]
  },
  {
   "cell_type": "code",
   "execution_count": 9,
   "id": "6d78a1ee-efbf-4bf6-a06e-d7c2d8fca5fc",
   "metadata": {},
   "outputs": [],
   "source": [
    "# Concat both Data sets\n",
    "df=pl.concat([df_polars, metal_polars])"
   ]
  },
  {
   "cell_type": "code",
   "execution_count": 10,
   "id": "a6e5c2ed-0bb3-4359-b6a0-0c6bfc45bb82",
   "metadata": {},
   "outputs": [
    {
     "name": "stdout",
     "output_type": "stream",
     "text": [
      "Merged Data Info\n",
      "(6141699, 5)\n",
      "['title', 'artist', 'tag', 'year', 'lyrics']\n"
     ]
    }
   ],
   "source": [
    "print(\"Merged Data Info\")\n",
    "print(df.shape)\n",
    "print(df.columns)"
   ]
  },
  {
   "cell_type": "code",
   "execution_count": 11,
   "id": "94115a0d-37d7-4384-9b56-19bc9476a952",
   "metadata": {},
   "outputs": [],
   "source": [
    "# Clean lyrics column\n",
    "df = df.with_columns( \n",
    "    pl.col(\"lyrics\").map_elements(lambda x:  clean_lyrics(x), return_dtype=pl.Utf8 ).alias(\"lyrics_cleaned\")\n",
    ")"
   ]
  },
  {
   "cell_type": "code",
   "execution_count": 12,
   "id": "366ebafe-d447-44d3-b808-aff2909c96fa",
   "metadata": {},
   "outputs": [],
   "source": [
    "df=df.with_columns( \n",
    "    pl.col(\"lyrics_cleaned\").map_elements(lambda x:  len(x), return_dtype=pl.Int64 ).alias(\"len_lyrics\")\n",
    ")"
   ]
  },
  {
   "cell_type": "code",
   "execution_count": 13,
   "id": "d6458713-2fb3-467e-aff1-f06d0585772d",
   "metadata": {},
   "outputs": [],
   "source": [
    "# Calculate size lyrics\n",
    "df = df.with_columns( \n",
    "    pl.col(\"lyrics_cleaned\").map_elements(lambda x: len(x.encode('utf-8')) , return_dtype=pl.Int64 ).alias(\"song_size_bytes\")\n",
    ")"
   ]
  },
  {
   "cell_type": "code",
   "execution_count": 25,
   "id": "a732f4f2-ee00-4223-8544-26b2c634eb91",
   "metadata": {
    "jp-MarkdownHeadingCollapsed": true
   },
   "outputs": [],
   "source": [
    "#Compress lyrics with multiple algorithms so we can compare and picke the right one\n",
    "\n",
    "#### Compress lyrics with gzip function\n",
    "df = df.with_columns( \n",
    "    pl.col(\"lyrics_cleaned\").map_elements(lambda x: compress_text(x) , return_dtype=pl.Utf8 ).alias(\"lyrics_compressed_gzip\")\n",
    ")"
   ]
  },
  {
   "cell_type": "markdown",
   "id": "473dad3c-f3bf-4f95-b150-806fd0b5ea81",
   "metadata": {},
   "source": [
    "#### Compress lyrics with zlib function\n",
    "df = df.with_columns( \n",
    "    pl.col(\"lyrics_cleaned\").map_elements(lambda x:  compress_text_zlib(x) , return_dtype=pl.Utf8 ).alias(\"lyrics_compressed_zlib\")\n",
    ")"
   ]
  },
  {
   "cell_type": "markdown",
   "id": "8e98b83f-b8f4-4878-ac22-5cf1fc5e14fb",
   "metadata": {},
   "source": [
    "#### Compress lyrics with bz2 function\n",
    "df = df.with_columns( \n",
    "    pl.col(\"lyrics_cleaned\").map_elements(lambda x:  compress_text_bz2(x) , return_dtype=pl.Utf8 ).alias(\"lyrics_compressed_bz2\")\n",
    ")"
   ]
  },
  {
   "cell_type": "markdown",
   "id": "9ffba15f-0acf-4cfe-a4c4-256fccdc571d",
   "metadata": {},
   "source": [
    "#### Compress lyrics with lzma function\n",
    "df = df.with_columns( \n",
    "    pl.col(\"lyrics_cleaned\").map_elements(lambda x:  compress_text_lzma(x) , return_dtype=pl.Utf8 ).alias(\"lyrics_compressed_lzma\")\n",
    ")"
   ]
  },
  {
   "cell_type": "markdown",
   "id": "0a63d914-6d55-400f-9bb5-dae33e528484",
   "metadata": {},
   "source": [
    "#### Compress lyrics with snappy function\n",
    "df = df.with_columns( \n",
    "    pl.col(\"lyrics_cleaned\").map_elements(lambda x:  compress_text_snappy(x) , return_dtype=pl.Utf8 ).alias(\"lyrics_compressed_snappy\")\n",
    ")"
   ]
  },
  {
   "cell_type": "code",
   "execution_count": 31,
   "id": "61c1030b-5e3f-443e-937e-d5b8dc381f1c",
   "metadata": {},
   "outputs": [],
   "source": [
    "# Calculate size compressed lyrics\n",
    "df = df.with_columns( \n",
    "    pl.col(\"lyrics_compressed_gzip\").map_elements(lambda x: len(x.encode('utf-8')), return_dtype=pl.Int64 ).alias(\"song_compressed_size_gzip\")\n",
    ")"
   ]
  },
  {
   "cell_type": "code",
   "execution_count": 33,
   "id": "7b565f75-8750-43e8-82e5-1b23a3e90687",
   "metadata": {},
   "outputs": [],
   "source": [
    "df=df.filter( (pl.col(\"year\") <= 2024) & (pl.col(\"year\") > 89 ) )"
   ]
  },
  {
   "cell_type": "code",
   "execution_count": 35,
   "id": "1aab1980-f339-4593-ba4d-45b4aadfaef5",
   "metadata": {
    "scrolled": true
   },
   "outputs": [],
   "source": [
    "df = df.with_columns(\n",
    "    ratio_compress = (pl.col('song_compressed_size_gzip')*100) / pl.col('song_size_bytes')\n",
    ")\n",
    "\n",
    "df = df.with_columns( \n",
    "    pl.col(\"ratio_compress\").map_elements(lambda x: round(x,0), return_dtype=pl.Float64 ).alias(\"ratio_compress\")\n",
    ")"
   ]
  },
  {
   "cell_type": "code",
   "execution_count": 37,
   "id": "4592b4fc-c66c-480d-bcd1-b50221fe9fcf",
   "metadata": {},
   "outputs": [],
   "source": [
    "df2=df.filter( (pl.col(\"year\") <= 2024) & (pl.col(\"year\") > 89 ) & (pl.col(\"ratio_compress\") <= 100 ) )\n",
    "df_songs= df2[[\"title\", \"artist\", \"tag\",  \"year\", \"len_lyrics\", \"song_size_bytes\", \"song_compressed_size_gzip\", \"ratio_compress\"]]"
   ]
  },
  {
   "cell_type": "code",
   "execution_count": 39,
   "id": "7086de1b-444d-4346-b840-b351c75f9e4b",
   "metadata": {},
   "outputs": [],
   "source": [
    "df_songs = df_songs.with_columns( \n",
    "    pl.col(\"ratio_compress\").map_elements(lambda x: int(x), return_dtype=pl.Int64 ).alias(\"ratio_compress\")\n",
    ")"
   ]
  },
  {
   "cell_type": "code",
   "execution_count": 41,
   "id": "c6dc7bd5-53ac-423b-9bac-20ce6b40df88",
   "metadata": {
    "scrolled": true
   },
   "outputs": [
    {
     "data": {
      "text/html": [
       "<div><style>\n",
       ".dataframe > thead > tr,\n",
       ".dataframe > tbody > tr {\n",
       "  text-align: right;\n",
       "  white-space: pre-wrap;\n",
       "}\n",
       "</style>\n",
       "<small>shape: (5_234_277, 8)</small><table border=\"1\" class=\"dataframe\"><thead><tr><th>title</th><th>artist</th><th>tag</th><th>year</th><th>len_lyrics</th><th>song_size_bytes</th><th>song_compressed_size_gzip</th><th>ratio_compress</th></tr><tr><td>str</td><td>str</td><td>str</td><td>i64</td><td>i64</td><td>i64</td><td>i64</td><td>i64</td></tr></thead><tbody><tr><td>&quot;Killa Cam&quot;</td><td>&quot;Cam&#x27;ron&quot;</td><td>&quot;rap&quot;</td><td>2004</td><td>3968</td><td>3968</td><td>2108</td><td>53</td></tr><tr><td>&quot;Can I Live&quot;</td><td>&quot;JAY-Z&quot;</td><td>&quot;rap&quot;</td><td>1996</td><td>2885</td><td>2887</td><td>2080</td><td>72</td></tr><tr><td>&quot;Forgive Me Father&quot;</td><td>&quot;Fabolous&quot;</td><td>&quot;rap&quot;</td><td>2003</td><td>2807</td><td>2807</td><td>1892</td><td>67</td></tr><tr><td>&quot;Down and Out&quot;</td><td>&quot;Cam&#x27;ron&quot;</td><td>&quot;rap&quot;</td><td>2004</td><td>3851</td><td>3859</td><td>2248</td><td>58</td></tr><tr><td>&quot;Fly In&quot;</td><td>&quot;Lil Wayne&quot;</td><td>&quot;rap&quot;</td><td>2005</td><td>2144</td><td>2144</td><td>1496</td><td>70</td></tr><tr><td>&hellip;</td><td>&hellip;</td><td>&hellip;</td><td>&hellip;</td><td>&hellip;</td><td>&hellip;</td><td>&hellip;</td><td>&hellip;</td></tr><tr><td>&quot;Storm Detonation&quot;</td><td>&quot;ZYKLON&quot;</td><td>&quot;metal&quot;</td><td>2001</td><td>910</td><td>910</td><td>668</td><td>73</td></tr><tr><td>&quot;Zycloned&quot;</td><td>&quot;ZYKLON&quot;</td><td>&quot;metal&quot;</td><td>2001</td><td>1015</td><td>1015</td><td>712</td><td>70</td></tr><tr><td>&quot;Terrordrome&quot;</td><td>&quot;ZYKLON&quot;</td><td>&quot;metal&quot;</td><td>2001</td><td>859</td><td>859</td><td>700</td><td>81</td></tr><tr><td>&quot;Worm World&quot;</td><td>&quot;ZYKLON&quot;</td><td>&quot;metal&quot;</td><td>2001</td><td>966</td><td>966</td><td>732</td><td>76</td></tr><tr><td>&quot;Transcendental War - Battle Be…</td><td>&quot;ZYKLON&quot;</td><td>&quot;metal&quot;</td><td>2001</td><td>1991</td><td>2007</td><td>1468</td><td>73</td></tr></tbody></table></div>"
      ],
      "text/plain": [
       "shape: (5_234_277, 8)\n",
       "┌──────────────┬───────────┬───────┬──────┬────────────┬──────────────┬──────────────┬─────────────┐\n",
       "│ title        ┆ artist    ┆ tag   ┆ year ┆ len_lyrics ┆ song_size_by ┆ song_compres ┆ ratio_compr │\n",
       "│ ---          ┆ ---       ┆ ---   ┆ ---  ┆ ---        ┆ tes          ┆ sed_size_gzi ┆ ess         │\n",
       "│ str          ┆ str       ┆ str   ┆ i64  ┆ i64        ┆ ---          ┆ p            ┆ ---         │\n",
       "│              ┆           ┆       ┆      ┆            ┆ i64          ┆ ---          ┆ i64         │\n",
       "│              ┆           ┆       ┆      ┆            ┆              ┆ i64          ┆             │\n",
       "╞══════════════╪═══════════╪═══════╪══════╪════════════╪══════════════╪══════════════╪═════════════╡\n",
       "│ Killa Cam    ┆ Cam'ron   ┆ rap   ┆ 2004 ┆ 3968       ┆ 3968         ┆ 2108         ┆ 53          │\n",
       "│ Can I Live   ┆ JAY-Z     ┆ rap   ┆ 1996 ┆ 2885       ┆ 2887         ┆ 2080         ┆ 72          │\n",
       "│ Forgive Me   ┆ Fabolous  ┆ rap   ┆ 2003 ┆ 2807       ┆ 2807         ┆ 1892         ┆ 67          │\n",
       "│ Father       ┆           ┆       ┆      ┆            ┆              ┆              ┆             │\n",
       "│ Down and Out ┆ Cam'ron   ┆ rap   ┆ 2004 ┆ 3851       ┆ 3859         ┆ 2248         ┆ 58          │\n",
       "│ Fly In       ┆ Lil Wayne ┆ rap   ┆ 2005 ┆ 2144       ┆ 2144         ┆ 1496         ┆ 70          │\n",
       "│ …            ┆ …         ┆ …     ┆ …    ┆ …          ┆ …            ┆ …            ┆ …           │\n",
       "│ Storm        ┆ ZYKLON    ┆ metal ┆ 2001 ┆ 910        ┆ 910          ┆ 668          ┆ 73          │\n",
       "│ Detonation   ┆           ┆       ┆      ┆            ┆              ┆              ┆             │\n",
       "│ Zycloned     ┆ ZYKLON    ┆ metal ┆ 2001 ┆ 1015       ┆ 1015         ┆ 712          ┆ 70          │\n",
       "│ Terrordrome  ┆ ZYKLON    ┆ metal ┆ 2001 ┆ 859        ┆ 859          ┆ 700          ┆ 81          │\n",
       "│ Worm World   ┆ ZYKLON    ┆ metal ┆ 2001 ┆ 966        ┆ 966          ┆ 732          ┆ 76          │\n",
       "│ Transcendent ┆ ZYKLON    ┆ metal ┆ 2001 ┆ 1991       ┆ 2007         ┆ 1468         ┆ 73          │\n",
       "│ al War -     ┆           ┆       ┆      ┆            ┆              ┆              ┆             │\n",
       "│ Battle Be…   ┆           ┆       ┆      ┆            ┆              ┆              ┆             │\n",
       "└──────────────┴───────────┴───────┴──────┴────────────┴──────────────┴──────────────┴─────────────┘"
      ]
     },
     "execution_count": 41,
     "metadata": {},
     "output_type": "execute_result"
    }
   ],
   "source": [
    "df_songs"
   ]
  },
  {
   "cell_type": "code",
   "execution_count": 43,
   "id": "ff5f4acf-dab0-4c69-8624-a6afce30fee9",
   "metadata": {},
   "outputs": [
    {
     "data": {
      "text/html": [
       "<div><style>\n",
       ".dataframe > thead > tr,\n",
       ".dataframe > tbody > tr {\n",
       "  text-align: right;\n",
       "  white-space: pre-wrap;\n",
       "}\n",
       "</style>\n",
       "<small>shape: (5_234_277, 8)</small><table border=\"1\" class=\"dataframe\"><thead><tr><th>title</th><th>artist</th><th>tag</th><th>year</th><th>len_lyrics</th><th>song_size_bytes</th><th>song_compressed_size_gzip</th><th>ratio_compress</th></tr><tr><td>str</td><td>str</td><td>str</td><td>i64</td><td>i64</td><td>i64</td><td>i64</td><td>i64</td></tr></thead><tbody><tr><td>&quot;Killa Cam&quot;</td><td>&quot;Cam&#x27;ron&quot;</td><td>&quot;rap&quot;</td><td>2004</td><td>3968</td><td>3968</td><td>2108</td><td>53</td></tr><tr><td>&quot;Can I Live&quot;</td><td>&quot;JAY-Z&quot;</td><td>&quot;rap&quot;</td><td>1996</td><td>2885</td><td>2887</td><td>2080</td><td>72</td></tr><tr><td>&quot;Forgive Me Father&quot;</td><td>&quot;Fabolous&quot;</td><td>&quot;rap&quot;</td><td>2003</td><td>2807</td><td>2807</td><td>1892</td><td>67</td></tr><tr><td>&quot;Down and Out&quot;</td><td>&quot;Cam&#x27;ron&quot;</td><td>&quot;rap&quot;</td><td>2004</td><td>3851</td><td>3859</td><td>2248</td><td>58</td></tr><tr><td>&quot;Fly In&quot;</td><td>&quot;Lil Wayne&quot;</td><td>&quot;rap&quot;</td><td>2005</td><td>2144</td><td>2144</td><td>1496</td><td>70</td></tr><tr><td>&hellip;</td><td>&hellip;</td><td>&hellip;</td><td>&hellip;</td><td>&hellip;</td><td>&hellip;</td><td>&hellip;</td><td>&hellip;</td></tr><tr><td>&quot;Storm Detonation&quot;</td><td>&quot;ZYKLON&quot;</td><td>&quot;metal&quot;</td><td>2001</td><td>910</td><td>910</td><td>668</td><td>73</td></tr><tr><td>&quot;Zycloned&quot;</td><td>&quot;ZYKLON&quot;</td><td>&quot;metal&quot;</td><td>2001</td><td>1015</td><td>1015</td><td>712</td><td>70</td></tr><tr><td>&quot;Terrordrome&quot;</td><td>&quot;ZYKLON&quot;</td><td>&quot;metal&quot;</td><td>2001</td><td>859</td><td>859</td><td>700</td><td>81</td></tr><tr><td>&quot;Worm World&quot;</td><td>&quot;ZYKLON&quot;</td><td>&quot;metal&quot;</td><td>2001</td><td>966</td><td>966</td><td>732</td><td>76</td></tr><tr><td>&quot;Transcendental War - Battle Be…</td><td>&quot;ZYKLON&quot;</td><td>&quot;metal&quot;</td><td>2001</td><td>1991</td><td>2007</td><td>1468</td><td>73</td></tr></tbody></table></div>"
      ],
      "text/plain": [
       "shape: (5_234_277, 8)\n",
       "┌──────────────┬───────────┬───────┬──────┬────────────┬──────────────┬──────────────┬─────────────┐\n",
       "│ title        ┆ artist    ┆ tag   ┆ year ┆ len_lyrics ┆ song_size_by ┆ song_compres ┆ ratio_compr │\n",
       "│ ---          ┆ ---       ┆ ---   ┆ ---  ┆ ---        ┆ tes          ┆ sed_size_gzi ┆ ess         │\n",
       "│ str          ┆ str       ┆ str   ┆ i64  ┆ i64        ┆ ---          ┆ p            ┆ ---         │\n",
       "│              ┆           ┆       ┆      ┆            ┆ i64          ┆ ---          ┆ i64         │\n",
       "│              ┆           ┆       ┆      ┆            ┆              ┆ i64          ┆             │\n",
       "╞══════════════╪═══════════╪═══════╪══════╪════════════╪══════════════╪══════════════╪═════════════╡\n",
       "│ Killa Cam    ┆ Cam'ron   ┆ rap   ┆ 2004 ┆ 3968       ┆ 3968         ┆ 2108         ┆ 53          │\n",
       "│ Can I Live   ┆ JAY-Z     ┆ rap   ┆ 1996 ┆ 2885       ┆ 2887         ┆ 2080         ┆ 72          │\n",
       "│ Forgive Me   ┆ Fabolous  ┆ rap   ┆ 2003 ┆ 2807       ┆ 2807         ┆ 1892         ┆ 67          │\n",
       "│ Father       ┆           ┆       ┆      ┆            ┆              ┆              ┆             │\n",
       "│ Down and Out ┆ Cam'ron   ┆ rap   ┆ 2004 ┆ 3851       ┆ 3859         ┆ 2248         ┆ 58          │\n",
       "│ Fly In       ┆ Lil Wayne ┆ rap   ┆ 2005 ┆ 2144       ┆ 2144         ┆ 1496         ┆ 70          │\n",
       "│ …            ┆ …         ┆ …     ┆ …    ┆ …          ┆ …            ┆ …            ┆ …           │\n",
       "│ Storm        ┆ ZYKLON    ┆ metal ┆ 2001 ┆ 910        ┆ 910          ┆ 668          ┆ 73          │\n",
       "│ Detonation   ┆           ┆       ┆      ┆            ┆              ┆              ┆             │\n",
       "│ Zycloned     ┆ ZYKLON    ┆ metal ┆ 2001 ┆ 1015       ┆ 1015         ┆ 712          ┆ 70          │\n",
       "│ Terrordrome  ┆ ZYKLON    ┆ metal ┆ 2001 ┆ 859        ┆ 859          ┆ 700          ┆ 81          │\n",
       "│ Worm World   ┆ ZYKLON    ┆ metal ┆ 2001 ┆ 966        ┆ 966          ┆ 732          ┆ 76          │\n",
       "│ Transcendent ┆ ZYKLON    ┆ metal ┆ 2001 ┆ 1991       ┆ 2007         ┆ 1468         ┆ 73          │\n",
       "│ al War -     ┆           ┆       ┆      ┆            ┆              ┆              ┆             │\n",
       "│ Battle Be…   ┆           ┆       ┆      ┆            ┆              ┆              ┆             │\n",
       "└──────────────┴───────────┴───────┴──────┴────────────┴──────────────┴──────────────┴─────────────┘"
      ]
     },
     "execution_count": 43,
     "metadata": {},
     "output_type": "execute_result"
    }
   ],
   "source": [
    "df_songs.write_csv('Repetitive_songs.csv', separator=\",\")\n",
    "df_songs"
   ]
  },
  {
   "cell_type": "code",
   "execution_count": null,
   "id": "bc387ea9-fdb4-4c7b-a3bd-2916755b87e7",
   "metadata": {},
   "outputs": [],
   "source": []
  }
 ],
 "metadata": {
  "kernelspec": {
   "display_name": "Python [conda env:base] *",
   "language": "python",
   "name": "conda-base-py"
  },
  "language_info": {
   "codemirror_mode": {
    "name": "ipython",
    "version": 3
   },
   "file_extension": ".py",
   "mimetype": "text/x-python",
   "name": "python",
   "nbconvert_exporter": "python",
   "pygments_lexer": "ipython3",
   "version": "3.12.7"
  }
 },
 "nbformat": 4,
 "nbformat_minor": 5
}
